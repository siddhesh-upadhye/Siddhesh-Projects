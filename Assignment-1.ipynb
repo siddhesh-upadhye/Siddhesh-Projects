{
 "cells": [
  {
   "cell_type": "markdown",
   "metadata": {},
   "source": [
    "# Assignment-1(Except Task1-Q1)"
   ]
  },
  {
   "cell_type": "code",
   "execution_count": 2,
   "metadata": {},
   "outputs": [
    {
     "name": "stdout",
     "output_type": "stream",
     "text": [
      "2002,2009,2016,2023,2037,2044,2051,2058,2072,2079,2086,2093,2107,2114,2121,2128,2142,2149,2156,2163,2177,2184,2191,2198,2212,2219,2226,2233,2247,2254,2261,2268,2282,2289,2296,2303,2317,2324,2331,2338,2352,2359,2366,2373,2387,2394,2401,2408,2422,2429,2436,2443,2457,2464,2471,2478,2492,2499,2506,2513,2527,2534,2541,2548,2562,2569,2576,2583,2597,2604,2611,2618,2632,2639,2646,2653,2667,2674,2681,2688,2702,2709,2716,2723,2737,2744,2751,2758,2772,2779,2786,2793,2807,2814,2821,2828,2842,2849,2856,2863,2877,2884,2891,2898,2912,2919,2926,2933,2947,2954,2961,2968,2982,2989,2996,3003,3017,3024,3031,3038,3052,3059,3066,3073,3087,3094,3101,3108,3122,3129,3136,3143,3157,3164,3171,3178,3192,3199\n"
     ]
    }
   ],
   "source": [
    "##Task1(Q2)\n",
    "\n",
    "l1=[]\n",
    "for i in range(2000,3200):\n",
    "    if(i%7==0) and (i%5)!=0:\n",
    "        l1.append(str(i))\n",
    "print(','.join(l1))"
   ]
  },
  {
   "cell_type": "code",
   "execution_count": 9,
   "metadata": {},
   "outputs": [
    {
     "name": "stdout",
     "output_type": "stream",
     "text": [
      "Enter your First Name :Siddhesh\n",
      "Enter your Last Name :Upadhye\n",
      "My name is Upadhye Siddhesh\n"
     ]
    }
   ],
   "source": [
    "##Task1(Q3)\n",
    "\n",
    "fname=input(\"Enter your First Name :\")\n",
    "lname=input(\"Enter your Last Name :\")\n",
    "print(\"My name is \"+lname+\" \" +fname)"
   ]
  },
  {
   "cell_type": "code",
   "execution_count": 4,
   "metadata": {},
   "outputs": [
    {
     "name": "stdout",
     "output_type": "stream",
     "text": [
      "Volume of Sphere is 904.3199999999999\n"
     ]
    }
   ],
   "source": [
    "##Task1(Q4)\n",
    "\n",
    "diameter=12 \n",
    "radius=diameter/2\n",
    "volume=(4/3)*3.14*(radius*radius*radius)\n",
    "volume=str(volume)\n",
    "print(\"Volume of Sphere is \"+volume)"
   ]
  },
  {
   "cell_type": "code",
   "execution_count": 12,
   "metadata": {},
   "outputs": [
    {
     "name": "stdout",
     "output_type": "stream",
     "text": [
      "Enter Comma Seperated Values: 2,4,5,66\n",
      "List:  ['2', '4', '5', '66']\n"
     ]
    }
   ],
   "source": [
    "##Task2(Q1)\n",
    "\n",
    "val=input(\"Enter Comma Seperated Values: \")\n",
    "l1=val.split(',')\n",
    "print(\"List: \",l1)"
   ]
  },
  {
   "cell_type": "code",
   "execution_count": 35,
   "metadata": {},
   "outputs": [
    {
     "name": "stdout",
     "output_type": "stream",
     "text": [
      "Enter Number of Row to be displayed in '*' 5\n",
      "* \n",
      "* * \n",
      "* * * \n",
      "* * * * \n",
      "* * * * * \n",
      "* * * * \n",
      "* * * \n",
      "* * \n",
      "* \n",
      "\n"
     ]
    }
   ],
   "source": [
    "##Task2(Q2)\n",
    "\n",
    "row=input(\"Enter Number of Row to be displayed in '*' \")\n",
    "row=int(row)\n",
    "for i in range(0,row):\n",
    "    for j in range(0,i+1):\n",
    "        print(\"*\",end=' ')\n",
    "    print(\"\\r\")\n",
    "for i in range(row,0,-1):\n",
    "    for j in range(0,i-1):\n",
    "        print(\"*\", end=' ')\n",
    "    print(\"\\r\")"
   ]
  },
  {
   "cell_type": "code",
   "execution_count": 36,
   "metadata": {},
   "outputs": [
    {
     "name": "stdout",
     "output_type": "stream",
     "text": [
      "Enter the Word:AcadGild\n",
      "Output  dliGdacA\n"
     ]
    }
   ],
   "source": [
    "#Task2(Q3)\n",
    "\n",
    "Word=input(\"Enter the Word:\")\n",
    "print(\"Output \",Word[::-1])"
   ]
  },
  {
   "cell_type": "code",
   "execution_count": 33,
   "metadata": {},
   "outputs": [
    {
     "name": "stdout",
     "output_type": "stream",
     "text": [
      "WE, THE PEOPLE OF INDIA, \n",
      "\thaving solemnly resolved to constitute India into a SOVEREIGN,!\n",
      "\t\tSOCIALIST, SECULAR, DEMOCRATIC REPUBLIC\n",
      "\t\tand to secure to all its citizens\n"
     ]
    }
   ],
   "source": [
    "#Task2(Q4)\n",
    "\n",
    "str1=\"WE, THE PEOPLE OF INDIA, \\n\\thaving solemnly resolved to constitute India into a SOVEREIGN,!\\n\\t\\tSOCIALIST, SECULAR, DEMOCRATIC REPUBLIC\\n\\t\\tand to secure to all its citizens\"\n",
    "\n",
    "print(str1)\n"
   ]
  }
 ],
 "metadata": {
  "kernelspec": {
   "display_name": "Python 3",
   "language": "python",
   "name": "python3"
  },
  "language_info": {
   "codemirror_mode": {
    "name": "ipython",
    "version": 3
   },
   "file_extension": ".py",
   "mimetype": "text/x-python",
   "name": "python",
   "nbconvert_exporter": "python",
   "pygments_lexer": "ipython3",
   "version": "3.6.10"
  }
 },
 "nbformat": 4,
 "nbformat_minor": 4
}
